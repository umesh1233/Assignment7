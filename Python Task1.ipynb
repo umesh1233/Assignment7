{
 "cells": [
  {
   "cell_type": "code",
   "execution_count": 1,
   "id": "8b2d9c24-a4ba-44b4-b204-bd888004d6e9",
   "metadata": {},
   "outputs": [],
   "source": [
    "#Q.1\n",
    "list1 = [1,2,3,4, [44,55,66, True], False, (34,56,78,89,34), {1,2,3,3,2,1}, {1:34, \"key2\": [55, 67, 78, 89], 4: (45,\n",
    "22, 61, 34)}, [56, 'data science'], 'Machine Learning']"
   ]
  },
  {
   "cell_type": "code",
   "execution_count": 2,
   "id": "71c6a3b1-d734-40b2-a841-adf33093b219",
   "metadata": {},
   "outputs": [],
   "source": [
    "def test1():\n",
    "    return list1"
   ]
  },
  {
   "cell_type": "code",
   "execution_count": 4,
   "id": "28a0e5e9-3689-4996-96b0-a2941936a737",
   "metadata": {},
   "outputs": [
    {
     "data": {
      "text/plain": [
       "list[[1, 2, 3, 4, [44, 55, 66, True], False, (34, 56, 78, 89, 34), {1, 2, 3}, {1: 34, 'key2': [55, 67, 78, 89], 4: (45, 22, 61, 34)}, [56, 'data science'], 'Machine Learning']]"
      ]
     },
     "execution_count": 4,
     "metadata": {},
     "output_type": "execute_result"
    }
   ],
   "source": [
    "list[list1]"
   ]
  },
  {
   "cell_type": "code",
   "execution_count": null,
   "id": "0f3ebfdd-8b3a-4276-b67f-9f4a2fdd0f17",
   "metadata": {},
   "outputs": [],
   "source": []
  }
 ],
 "metadata": {
  "kernelspec": {
   "display_name": "Python 3 (ipykernel)",
   "language": "python",
   "name": "python3"
  },
  "language_info": {
   "codemirror_mode": {
    "name": "ipython",
    "version": 3
   },
   "file_extension": ".py",
   "mimetype": "text/x-python",
   "name": "python",
   "nbconvert_exporter": "python",
   "pygments_lexer": "ipython3",
   "version": "3.10.8"
  }
 },
 "nbformat": 4,
 "nbformat_minor": 5
}
